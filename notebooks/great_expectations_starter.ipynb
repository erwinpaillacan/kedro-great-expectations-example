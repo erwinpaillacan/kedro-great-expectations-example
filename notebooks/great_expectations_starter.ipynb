{
 "cells": [
  {
   "cell_type": "markdown",
   "id": "2ffafa0c",
   "metadata": {},
   "source": [
    "# Quick-start GE\n",
    "\n",
    "- Official docs on usage of kedro and jupyter: https://kedro.readthedocs.io/en/stable/tools_integration/ipython.html\n",
    "\n",
    "- Gallery expectations: https://greatexpectations.io/expectations/"
   ]
  },
  {
   "cell_type": "code",
   "execution_count": 1,
   "id": "4007bde4",
   "metadata": {},
   "outputs": [],
   "source": [
    "import pathlib\n",
    "import os\n",
    "\n",
    "# Move path to root folder\n",
    "root_folder = pathlib.Path().cwd().parent\n",
    "os.chdir(root_folder)"
   ]
  },
  {
   "cell_type": "code",
   "execution_count": 2,
   "id": "25fa256b",
   "metadata": {},
   "outputs": [
    {
     "data": {
      "text/html": [
       "<pre style=\"white-space:pre;overflow-x:auto;line-height:normal;font-family:Menlo,'DejaVu Sans Mono',consolas,'Courier New',monospace\"><span style=\"color: #7fbfbf; text-decoration-color: #7fbfbf\">                    </span><span style=\"color: #000080; text-decoration-color: #000080\">INFO    </span> Resolved project path as:                                              <a href=\"file:///Users/Erwin_Paillacan/miniconda3/envs/kedro-ge-example/lib/python3.10/site-packages/kedro/ipython/__init__.py\" target=\"_blank\"><span style=\"color: #7f7f7f; text-decoration-color: #7f7f7f\">__init__.py</span></a><span style=\"color: #7f7f7f; text-decoration-color: #7f7f7f\">:</span><a href=\"file:///Users/Erwin_Paillacan/miniconda3/envs/kedro-ge-example/lib/python3.10/site-packages/kedro/ipython/__init__.py#139\" target=\"_blank\"><span style=\"color: #7f7f7f; text-decoration-color: #7f7f7f\">139</span></a>\n",
       "<span style=\"color: #7fbfbf; text-decoration-color: #7fbfbf\">                    </span>         <span style=\"color: #800080; text-decoration-color: #800080\">/Users/Erwin_Paillacan/Projects/General/</span><span style=\"color: #ff00ff; text-decoration-color: #ff00ff\">kedro-great-expectations-examp</span> <span style=\"color: #7f7f7f; text-decoration-color: #7f7f7f\">               </span>\n",
       "<span style=\"color: #7fbfbf; text-decoration-color: #7fbfbf\">                    </span>         <span style=\"color: #ff00ff; text-decoration-color: #ff00ff\">le.</span>                                                                    <span style=\"color: #7f7f7f; text-decoration-color: #7f7f7f\">               </span>\n",
       "<span style=\"color: #7fbfbf; text-decoration-color: #7fbfbf\">                    </span>         To set a different path, run <span style=\"color: #008000; text-decoration-color: #008000\">'%reload_kedro &lt;project_root&gt;'</span>            <span style=\"color: #7f7f7f; text-decoration-color: #7f7f7f\">               </span>\n",
       "</pre>\n"
      ],
      "text/plain": [
       "\u001b[2;36m                   \u001b[0m\u001b[2;36m \u001b[0m\u001b[34mINFO    \u001b[0m Resolved project path as:                                              \u001b]8;id=910422;file:///Users/Erwin_Paillacan/miniconda3/envs/kedro-ge-example/lib/python3.10/site-packages/kedro/ipython/__init__.py\u001b\\\u001b[2m__init__.py\u001b[0m\u001b]8;;\u001b\\\u001b[2m:\u001b[0m\u001b]8;id=650180;file:///Users/Erwin_Paillacan/miniconda3/envs/kedro-ge-example/lib/python3.10/site-packages/kedro/ipython/__init__.py#139\u001b\\\u001b[2m139\u001b[0m\u001b]8;;\u001b\\\n",
       "\u001b[2;36m                    \u001b[0m         \u001b[35m/Users/Erwin_Paillacan/Projects/General/\u001b[0m\u001b[95mkedro-great-expectations-examp\u001b[0m \u001b[2m               \u001b[0m\n",
       "\u001b[2;36m                    \u001b[0m         \u001b[95mle.\u001b[0m                                                                    \u001b[2m               \u001b[0m\n",
       "\u001b[2;36m                    \u001b[0m         To set a different path, run \u001b[32m'%reload_kedro \u001b[0m\u001b[32m<\u001b[0m\u001b[32mproject_root\u001b[0m\u001b[32m>\u001b[0m\u001b[32m'\u001b[0m            \u001b[2m               \u001b[0m\n"
      ]
     },
     "metadata": {},
     "output_type": "display_data"
    },
    {
     "data": {
      "text/html": [
       "<pre style=\"white-space:pre;overflow-x:auto;line-height:normal;font-family:Menlo,'DejaVu Sans Mono',consolas,'Courier New',monospace\"><span style=\"color: #7fbfbf; text-decoration-color: #7fbfbf\">[10/10/23 17:57:04] </span><span style=\"color: #000080; text-decoration-color: #000080\">INFO    </span> Loading data from <span style=\"color: #008000; text-decoration-color: #008000\">'params:great_expectations.checkpoint_mapper'</span>    <a href=\"file:///Users/Erwin_Paillacan/miniconda3/envs/kedro-ge-example/lib/python3.10/site-packages/kedro/io/data_catalog.py\" target=\"_blank\"><span style=\"color: #7f7f7f; text-decoration-color: #7f7f7f\">data_catalog.py</span></a><span style=\"color: #7f7f7f; text-decoration-color: #7f7f7f\">:</span><a href=\"file:///Users/Erwin_Paillacan/miniconda3/envs/kedro-ge-example/lib/python3.10/site-packages/kedro/io/data_catalog.py#492\" target=\"_blank\"><span style=\"color: #7f7f7f; text-decoration-color: #7f7f7f\">492</span></a>\n",
       "<span style=\"color: #7fbfbf; text-decoration-color: #7fbfbf\">                    </span>         <span style=\"font-weight: bold\">(</span>MemoryDataset<span style=\"font-weight: bold\">)</span><span style=\"color: #808000; text-decoration-color: #808000\">...</span>                                                 <span style=\"color: #7f7f7f; text-decoration-color: #7f7f7f\">                   </span>\n",
       "</pre>\n"
      ],
      "text/plain": [
       "\u001b[2;36m[10/10/23 17:57:04]\u001b[0m\u001b[2;36m \u001b[0m\u001b[34mINFO    \u001b[0m Loading data from \u001b[32m'params:great_expectations.checkpoint_mapper'\u001b[0m    \u001b]8;id=262064;file:///Users/Erwin_Paillacan/miniconda3/envs/kedro-ge-example/lib/python3.10/site-packages/kedro/io/data_catalog.py\u001b\\\u001b[2mdata_catalog.py\u001b[0m\u001b]8;;\u001b\\\u001b[2m:\u001b[0m\u001b]8;id=860167;file:///Users/Erwin_Paillacan/miniconda3/envs/kedro-ge-example/lib/python3.10/site-packages/kedro/io/data_catalog.py#492\u001b\\\u001b[2m492\u001b[0m\u001b]8;;\u001b\\\n",
       "\u001b[2;36m                    \u001b[0m         \u001b[1m(\u001b[0mMemoryDataset\u001b[1m)\u001b[0m\u001b[33m...\u001b[0m                                                 \u001b[2m                   \u001b[0m\n"
      ]
     },
     "metadata": {},
     "output_type": "display_data"
    },
    {
     "data": {
      "text/html": [
       "<pre style=\"white-space:pre;overflow-x:auto;line-height:normal;font-family:Menlo,'DejaVu Sans Mono',consolas,'Courier New',monospace\"><span style=\"color: #7fbfbf; text-decoration-color: #7fbfbf\">                    </span><span style=\"color: #000080; text-decoration-color: #000080\">INFO    </span> Loading data from <span style=\"color: #008000; text-decoration-color: #008000\">'params:great_expectations.context_root_dir'</span>     <a href=\"file:///Users/Erwin_Paillacan/miniconda3/envs/kedro-ge-example/lib/python3.10/site-packages/kedro/io/data_catalog.py\" target=\"_blank\"><span style=\"color: #7f7f7f; text-decoration-color: #7f7f7f\">data_catalog.py</span></a><span style=\"color: #7f7f7f; text-decoration-color: #7f7f7f\">:</span><a href=\"file:///Users/Erwin_Paillacan/miniconda3/envs/kedro-ge-example/lib/python3.10/site-packages/kedro/io/data_catalog.py#492\" target=\"_blank\"><span style=\"color: #7f7f7f; text-decoration-color: #7f7f7f\">492</span></a>\n",
       "<span style=\"color: #7fbfbf; text-decoration-color: #7fbfbf\">                    </span>         <span style=\"font-weight: bold\">(</span>MemoryDataset<span style=\"font-weight: bold\">)</span><span style=\"color: #808000; text-decoration-color: #808000\">...</span>                                                 <span style=\"color: #7f7f7f; text-decoration-color: #7f7f7f\">                   </span>\n",
       "</pre>\n"
      ],
      "text/plain": [
       "\u001b[2;36m                   \u001b[0m\u001b[2;36m \u001b[0m\u001b[34mINFO    \u001b[0m Loading data from \u001b[32m'params:great_expectations.context_root_dir'\u001b[0m     \u001b]8;id=481575;file:///Users/Erwin_Paillacan/miniconda3/envs/kedro-ge-example/lib/python3.10/site-packages/kedro/io/data_catalog.py\u001b\\\u001b[2mdata_catalog.py\u001b[0m\u001b]8;;\u001b\\\u001b[2m:\u001b[0m\u001b]8;id=274446;file:///Users/Erwin_Paillacan/miniconda3/envs/kedro-ge-example/lib/python3.10/site-packages/kedro/io/data_catalog.py#492\u001b\\\u001b[2m492\u001b[0m\u001b]8;;\u001b\\\n",
       "\u001b[2;36m                    \u001b[0m         \u001b[1m(\u001b[0mMemoryDataset\u001b[1m)\u001b[0m\u001b[33m...\u001b[0m                                                 \u001b[2m                   \u001b[0m\n"
      ]
     },
     "metadata": {},
     "output_type": "display_data"
    },
    {
     "data": {
      "text/html": [
       "<pre style=\"white-space:pre;overflow-x:auto;line-height:normal;font-family:Menlo,'DejaVu Sans Mono',consolas,'Courier New',monospace\"><span style=\"color: #7fbfbf; text-decoration-color: #7fbfbf\">                    </span><span style=\"color: #000080; text-decoration-color: #000080\">INFO    </span> Loading data from <span style=\"color: #008000; text-decoration-color: #008000\">'params:great_expectations.break_on_error'</span>       <a href=\"file:///Users/Erwin_Paillacan/miniconda3/envs/kedro-ge-example/lib/python3.10/site-packages/kedro/io/data_catalog.py\" target=\"_blank\"><span style=\"color: #7f7f7f; text-decoration-color: #7f7f7f\">data_catalog.py</span></a><span style=\"color: #7f7f7f; text-decoration-color: #7f7f7f\">:</span><a href=\"file:///Users/Erwin_Paillacan/miniconda3/envs/kedro-ge-example/lib/python3.10/site-packages/kedro/io/data_catalog.py#492\" target=\"_blank\"><span style=\"color: #7f7f7f; text-decoration-color: #7f7f7f\">492</span></a>\n",
       "<span style=\"color: #7fbfbf; text-decoration-color: #7fbfbf\">                    </span>         <span style=\"font-weight: bold\">(</span>MemoryDataset<span style=\"font-weight: bold\">)</span><span style=\"color: #808000; text-decoration-color: #808000\">...</span>                                                 <span style=\"color: #7f7f7f; text-decoration-color: #7f7f7f\">                   </span>\n",
       "</pre>\n"
      ],
      "text/plain": [
       "\u001b[2;36m                   \u001b[0m\u001b[2;36m \u001b[0m\u001b[34mINFO    \u001b[0m Loading data from \u001b[32m'params:great_expectations.break_on_error'\u001b[0m       \u001b]8;id=188912;file:///Users/Erwin_Paillacan/miniconda3/envs/kedro-ge-example/lib/python3.10/site-packages/kedro/io/data_catalog.py\u001b\\\u001b[2mdata_catalog.py\u001b[0m\u001b]8;;\u001b\\\u001b[2m:\u001b[0m\u001b]8;id=209518;file:///Users/Erwin_Paillacan/miniconda3/envs/kedro-ge-example/lib/python3.10/site-packages/kedro/io/data_catalog.py#492\u001b\\\u001b[2m492\u001b[0m\u001b]8;;\u001b\\\n",
       "\u001b[2;36m                    \u001b[0m         \u001b[1m(\u001b[0mMemoryDataset\u001b[1m)\u001b[0m\u001b[33m...\u001b[0m                                                 \u001b[2m                   \u001b[0m\n"
      ]
     },
     "metadata": {},
     "output_type": "display_data"
    },
    {
     "data": {
      "text/html": [
       "<pre style=\"white-space:pre;overflow-x:auto;line-height:normal;font-family:Menlo,'DejaVu Sans Mono',consolas,'Courier New',monospace\"><span style=\"color: #7fbfbf; text-decoration-color: #7fbfbf\">                    </span><span style=\"color: #000080; text-decoration-color: #000080\">INFO    </span> Kedro project kedro-great-example                                      <a href=\"file:///Users/Erwin_Paillacan/miniconda3/envs/kedro-ge-example/lib/python3.10/site-packages/kedro/ipython/__init__.py\" target=\"_blank\"><span style=\"color: #7f7f7f; text-decoration-color: #7f7f7f\">__init__.py</span></a><span style=\"color: #7f7f7f; text-decoration-color: #7f7f7f\">:</span><a href=\"file:///Users/Erwin_Paillacan/miniconda3/envs/kedro-ge-example/lib/python3.10/site-packages/kedro/ipython/__init__.py#108\" target=\"_blank\"><span style=\"color: #7f7f7f; text-decoration-color: #7f7f7f\">108</span></a>\n",
       "</pre>\n"
      ],
      "text/plain": [
       "\u001b[2;36m                   \u001b[0m\u001b[2;36m \u001b[0m\u001b[34mINFO    \u001b[0m Kedro project kedro-great-example                                      \u001b]8;id=234204;file:///Users/Erwin_Paillacan/miniconda3/envs/kedro-ge-example/lib/python3.10/site-packages/kedro/ipython/__init__.py\u001b\\\u001b[2m__init__.py\u001b[0m\u001b]8;;\u001b\\\u001b[2m:\u001b[0m\u001b]8;id=460771;file:///Users/Erwin_Paillacan/miniconda3/envs/kedro-ge-example/lib/python3.10/site-packages/kedro/ipython/__init__.py#108\u001b\\\u001b[2m108\u001b[0m\u001b]8;;\u001b\\\n"
      ]
     },
     "metadata": {},
     "output_type": "display_data"
    },
    {
     "data": {
      "text/html": [
       "<pre style=\"white-space:pre;overflow-x:auto;line-height:normal;font-family:Menlo,'DejaVu Sans Mono',consolas,'Courier New',monospace\"><span style=\"color: #7fbfbf; text-decoration-color: #7fbfbf\">                    </span><span style=\"color: #000080; text-decoration-color: #000080\">INFO    </span> Defined global variable <span style=\"color: #008000; text-decoration-color: #008000\">'context'</span>, <span style=\"color: #008000; text-decoration-color: #008000\">'session'</span>, <span style=\"color: #008000; text-decoration-color: #008000\">'catalog'</span> and            <a href=\"file:///Users/Erwin_Paillacan/miniconda3/envs/kedro-ge-example/lib/python3.10/site-packages/kedro/ipython/__init__.py\" target=\"_blank\"><span style=\"color: #7f7f7f; text-decoration-color: #7f7f7f\">__init__.py</span></a><span style=\"color: #7f7f7f; text-decoration-color: #7f7f7f\">:</span><a href=\"file:///Users/Erwin_Paillacan/miniconda3/envs/kedro-ge-example/lib/python3.10/site-packages/kedro/ipython/__init__.py#109\" target=\"_blank\"><span style=\"color: #7f7f7f; text-decoration-color: #7f7f7f\">109</span></a>\n",
       "<span style=\"color: #7fbfbf; text-decoration-color: #7fbfbf\">                    </span>         <span style=\"color: #008000; text-decoration-color: #008000\">'pipelines'</span>                                                            <span style=\"color: #7f7f7f; text-decoration-color: #7f7f7f\">               </span>\n",
       "</pre>\n"
      ],
      "text/plain": [
       "\u001b[2;36m                   \u001b[0m\u001b[2;36m \u001b[0m\u001b[34mINFO    \u001b[0m Defined global variable \u001b[32m'context'\u001b[0m, \u001b[32m'session'\u001b[0m, \u001b[32m'catalog'\u001b[0m and            \u001b]8;id=533964;file:///Users/Erwin_Paillacan/miniconda3/envs/kedro-ge-example/lib/python3.10/site-packages/kedro/ipython/__init__.py\u001b\\\u001b[2m__init__.py\u001b[0m\u001b]8;;\u001b\\\u001b[2m:\u001b[0m\u001b]8;id=955075;file:///Users/Erwin_Paillacan/miniconda3/envs/kedro-ge-example/lib/python3.10/site-packages/kedro/ipython/__init__.py#109\u001b\\\u001b[2m109\u001b[0m\u001b]8;;\u001b\\\n",
       "\u001b[2;36m                    \u001b[0m         \u001b[32m'pipelines'\u001b[0m                                                            \u001b[2m               \u001b[0m\n"
      ]
     },
     "metadata": {},
     "output_type": "display_data"
    }
   ],
   "source": [
    "%reload_kedro"
   ]
  },
  {
   "cell_type": "markdown",
   "id": "20acf306",
   "metadata": {},
   "source": [
    "## Sample expectation creation primaries"
   ]
  },
  {
   "cell_type": "code",
   "execution_count": 4,
   "id": "9d58486f",
   "metadata": {},
   "outputs": [],
   "source": [
    "import great_expectations as ge\n",
    "\n",
    "# to be saved in great_expectations/expectations/companies/intermediate/suite.json\n",
    "name_suite = \"companies.intermediate.suite\" \n",
    "\n",
    "dataset = \"companies.raw\"\n",
    "\n",
    "metadata = {\"source\": dataset.split(\".\")[0], \"layer\": \"intermediate\"}"
   ]
  },
  {
   "cell_type": "code",
   "execution_count": 5,
   "id": "dcb5bbfb",
   "metadata": {
    "scrolled": false
   },
   "outputs": [
    {
     "data": {
      "text/html": [
       "<pre style=\"white-space:pre;overflow-x:auto;line-height:normal;font-family:Menlo,'DejaVu Sans Mono',consolas,'Courier New',monospace\"><span style=\"color: #7fbfbf; text-decoration-color: #7fbfbf\">[10/10/23 17:57:28] </span><span style=\"color: #000080; text-decoration-color: #000080\">INFO    </span> Loading data from <span style=\"color: #008000; text-decoration-color: #008000\">'companies.raw'</span> <span style=\"font-weight: bold\">(</span>CSVDataset<span style=\"font-weight: bold\">)</span><span style=\"color: #808000; text-decoration-color: #808000\">...</span>                  <a href=\"file:///Users/Erwin_Paillacan/miniconda3/envs/kedro-ge-example/lib/python3.10/site-packages/kedro/io/data_catalog.py\" target=\"_blank\"><span style=\"color: #7f7f7f; text-decoration-color: #7f7f7f\">data_catalog.py</span></a><span style=\"color: #7f7f7f; text-decoration-color: #7f7f7f\">:</span><a href=\"file:///Users/Erwin_Paillacan/miniconda3/envs/kedro-ge-example/lib/python3.10/site-packages/kedro/io/data_catalog.py#492\" target=\"_blank\"><span style=\"color: #7f7f7f; text-decoration-color: #7f7f7f\">492</span></a>\n",
       "</pre>\n"
      ],
      "text/plain": [
       "\u001b[2;36m[10/10/23 17:57:28]\u001b[0m\u001b[2;36m \u001b[0m\u001b[34mINFO    \u001b[0m Loading data from \u001b[32m'companies.raw'\u001b[0m \u001b[1m(\u001b[0mCSVDataset\u001b[1m)\u001b[0m\u001b[33m...\u001b[0m                  \u001b]8;id=578785;file:///Users/Erwin_Paillacan/miniconda3/envs/kedro-ge-example/lib/python3.10/site-packages/kedro/io/data_catalog.py\u001b\\\u001b[2mdata_catalog.py\u001b[0m\u001b]8;;\u001b\\\u001b[2m:\u001b[0m\u001b]8;id=888243;file:///Users/Erwin_Paillacan/miniconda3/envs/kedro-ge-example/lib/python3.10/site-packages/kedro/io/data_catalog.py#492\u001b\\\u001b[2m492\u001b[0m\u001b]8;;\u001b\\\n"
      ]
     },
     "metadata": {},
     "output_type": "display_data"
    },
    {
     "data": {
      "text/html": [
       "<pre style=\"white-space:pre;overflow-x:auto;line-height:normal;font-family:Menlo,'DejaVu Sans Mono',consolas,'Courier New',monospace\"></pre>\n"
      ],
      "text/plain": []
     },
     "metadata": {},
     "output_type": "display_data"
    },
    {
     "data": {
      "text/plain": [
       "\n",
       "\u001b[1m{\u001b[0m\n",
       "  \u001b[32m\"expectation_suite_name\"\u001b[0m: \u001b[32m\"companies.intermediate.suite\"\u001b[0m,\n",
       "  \u001b[32m\"ge_cloud_id\"\u001b[0m: null,\n",
       "  \u001b[32m\"expectations\"\u001b[0m: \u001b[1m[\u001b[0m\n",
       "    \u001b[1m{\u001b[0m\n",
       "      \u001b[32m\"expectation_type\"\u001b[0m: \u001b[32m\"expect_column_to_exist\"\u001b[0m,\n",
       "      \u001b[32m\"kwargs\"\u001b[0m: \u001b[1m{\u001b[0m\n",
       "        \u001b[32m\"column\"\u001b[0m: \u001b[32m\"id\"\u001b[0m\n",
       "      \u001b[1m}\u001b[0m,\n",
       "      \u001b[32m\"meta\"\u001b[0m: \u001b[1m{\u001b[0m\n",
       "        \u001b[32m\"source\"\u001b[0m: \u001b[32m\"companies\"\u001b[0m,\n",
       "        \u001b[32m\"layer\"\u001b[0m: \u001b[32m\"intermediate\"\u001b[0m\n",
       "      \u001b[1m}\u001b[0m\n",
       "    \u001b[1m}\u001b[0m,\n",
       "    \u001b[1m{\u001b[0m\n",
       "      \u001b[32m\"expectation_type\"\u001b[0m: \u001b[32m\"expect_column_values_to_not_be_null\"\u001b[0m,\n",
       "      \u001b[32m\"kwargs\"\u001b[0m: \u001b[1m{\u001b[0m\n",
       "        \u001b[32m\"column\"\u001b[0m: \u001b[32m\"id\"\u001b[0m\n",
       "      \u001b[1m}\u001b[0m,\n",
       "      \u001b[32m\"meta\"\u001b[0m: \u001b[1m{\u001b[0m\n",
       "        \u001b[32m\"source\"\u001b[0m: \u001b[32m\"companies\"\u001b[0m,\n",
       "        \u001b[32m\"layer\"\u001b[0m: \u001b[32m\"intermediate\"\u001b[0m\n",
       "      \u001b[1m}\u001b[0m\n",
       "    \u001b[1m}\u001b[0m,\n",
       "    \u001b[1m{\u001b[0m\n",
       "      \u001b[32m\"expectation_type\"\u001b[0m: \u001b[32m\"expect_column_to_exist\"\u001b[0m,\n",
       "      \u001b[32m\"kwargs\"\u001b[0m: \u001b[1m{\u001b[0m\n",
       "        \u001b[32m\"column\"\u001b[0m: \u001b[32m\"company_rating\"\u001b[0m\n",
       "      \u001b[1m}\u001b[0m,\n",
       "      \u001b[32m\"meta\"\u001b[0m: \u001b[1m{\u001b[0m\n",
       "        \u001b[32m\"source\"\u001b[0m: \u001b[32m\"companies\"\u001b[0m,\n",
       "        \u001b[32m\"layer\"\u001b[0m: \u001b[32m\"intermediate\"\u001b[0m\n",
       "      \u001b[1m}\u001b[0m\n",
       "    \u001b[1m}\u001b[0m,\n",
       "    \u001b[1m{\u001b[0m\n",
       "      \u001b[32m\"expectation_type\"\u001b[0m: \u001b[32m\"expect_column_values_to_not_be_null\"\u001b[0m,\n",
       "      \u001b[32m\"kwargs\"\u001b[0m: \u001b[1m{\u001b[0m\n",
       "        \u001b[32m\"column\"\u001b[0m: \u001b[32m\"company_rating\"\u001b[0m\n",
       "      \u001b[1m}\u001b[0m,\n",
       "      \u001b[32m\"meta\"\u001b[0m: \u001b[1m{\u001b[0m\n",
       "        \u001b[32m\"source\"\u001b[0m: \u001b[32m\"companies\"\u001b[0m,\n",
       "        \u001b[32m\"layer\"\u001b[0m: \u001b[32m\"intermediate\"\u001b[0m\n",
       "      \u001b[1m}\u001b[0m\n",
       "    \u001b[1m}\u001b[0m,\n",
       "    \u001b[1m{\u001b[0m\n",
       "      \u001b[32m\"expectation_type\"\u001b[0m: \u001b[32m\"expect_column_to_exist\"\u001b[0m,\n",
       "      \u001b[32m\"kwargs\"\u001b[0m: \u001b[1m{\u001b[0m\n",
       "        \u001b[32m\"column\"\u001b[0m: \u001b[32m\"company_location\"\u001b[0m\n",
       "      \u001b[1m}\u001b[0m,\n",
       "      \u001b[32m\"meta\"\u001b[0m: \u001b[1m{\u001b[0m\n",
       "        \u001b[32m\"source\"\u001b[0m: \u001b[32m\"companies\"\u001b[0m,\n",
       "        \u001b[32m\"layer\"\u001b[0m: \u001b[32m\"intermediate\"\u001b[0m\n",
       "      \u001b[1m}\u001b[0m\n",
       "    \u001b[1m}\u001b[0m,\n",
       "    \u001b[1m{\u001b[0m\n",
       "      \u001b[32m\"expectation_type\"\u001b[0m: \u001b[32m\"expect_column_values_to_not_be_null\"\u001b[0m,\n",
       "      \u001b[32m\"kwargs\"\u001b[0m: \u001b[1m{\u001b[0m\n",
       "        \u001b[32m\"column\"\u001b[0m: \u001b[32m\"company_location\"\u001b[0m\n",
       "      \u001b[1m}\u001b[0m,\n",
       "      \u001b[32m\"meta\"\u001b[0m: \u001b[1m{\u001b[0m\n",
       "        \u001b[32m\"source\"\u001b[0m: \u001b[32m\"companies\"\u001b[0m,\n",
       "        \u001b[32m\"layer\"\u001b[0m: \u001b[32m\"intermediate\"\u001b[0m\n",
       "      \u001b[1m}\u001b[0m\n",
       "    \u001b[1m}\u001b[0m,\n",
       "    \u001b[1m{\u001b[0m\n",
       "      \u001b[32m\"expectation_type\"\u001b[0m: \u001b[32m\"expect_column_to_exist\"\u001b[0m,\n",
       "      \u001b[32m\"kwargs\"\u001b[0m: \u001b[1m{\u001b[0m\n",
       "        \u001b[32m\"column\"\u001b[0m: \u001b[32m\"total_fleet_count\"\u001b[0m\n",
       "      \u001b[1m}\u001b[0m,\n",
       "      \u001b[32m\"meta\"\u001b[0m: \u001b[1m{\u001b[0m\n",
       "        \u001b[32m\"source\"\u001b[0m: \u001b[32m\"companies\"\u001b[0m,\n",
       "        \u001b[32m\"layer\"\u001b[0m: \u001b[32m\"intermediate\"\u001b[0m\n",
       "      \u001b[1m}\u001b[0m\n",
       "    \u001b[1m}\u001b[0m,\n",
       "    \u001b[1m{\u001b[0m\n",
       "      \u001b[32m\"expectation_type\"\u001b[0m: \u001b[32m\"expect_column_values_to_not_be_null\"\u001b[0m,\n",
       "      \u001b[32m\"kwargs\"\u001b[0m: \u001b[1m{\u001b[0m\n",
       "        \u001b[32m\"column\"\u001b[0m: \u001b[32m\"total_fleet_count\"\u001b[0m\n",
       "      \u001b[1m}\u001b[0m,\n",
       "      \u001b[32m\"meta\"\u001b[0m: \u001b[1m{\u001b[0m\n",
       "        \u001b[32m\"source\"\u001b[0m: \u001b[32m\"companies\"\u001b[0m,\n",
       "        \u001b[32m\"layer\"\u001b[0m: \u001b[32m\"intermediate\"\u001b[0m\n",
       "      \u001b[1m}\u001b[0m\n",
       "    \u001b[1m}\u001b[0m,\n",
       "    \u001b[1m{\u001b[0m\n",
       "      \u001b[32m\"expectation_type\"\u001b[0m: \u001b[32m\"expect_column_to_exist\"\u001b[0m,\n",
       "      \u001b[32m\"kwargs\"\u001b[0m: \u001b[1m{\u001b[0m\n",
       "        \u001b[32m\"column\"\u001b[0m: \u001b[32m\"iata_approved\"\u001b[0m\n",
       "      \u001b[1m}\u001b[0m,\n",
       "      \u001b[32m\"meta\"\u001b[0m: \u001b[1m{\u001b[0m\n",
       "        \u001b[32m\"source\"\u001b[0m: \u001b[32m\"companies\"\u001b[0m,\n",
       "        \u001b[32m\"layer\"\u001b[0m: \u001b[32m\"intermediate\"\u001b[0m\n",
       "      \u001b[1m}\u001b[0m\n",
       "    \u001b[1m}\u001b[0m,\n",
       "    \u001b[1m{\u001b[0m\n",
       "      \u001b[32m\"expectation_type\"\u001b[0m: \u001b[32m\"expect_column_values_to_not_be_null\"\u001b[0m,\n",
       "      \u001b[32m\"kwargs\"\u001b[0m: \u001b[1m{\u001b[0m\n",
       "        \u001b[32m\"column\"\u001b[0m: \u001b[32m\"iata_approved\"\u001b[0m\n",
       "      \u001b[1m}\u001b[0m,\n",
       "      \u001b[32m\"meta\"\u001b[0m: \u001b[1m{\u001b[0m\n",
       "        \u001b[32m\"source\"\u001b[0m: \u001b[32m\"companies\"\u001b[0m,\n",
       "        \u001b[32m\"layer\"\u001b[0m: \u001b[32m\"intermediate\"\u001b[0m\n",
       "      \u001b[1m}\u001b[0m\n",
       "    \u001b[1m}\u001b[0m,\n",
       "    \u001b[1m{\u001b[0m\n",
       "      \u001b[32m\"expectation_type\"\u001b[0m: \u001b[32m\"expect_column_to_exist\"\u001b[0m,\n",
       "      \u001b[32m\"kwargs\"\u001b[0m: \u001b[1m{\u001b[0m\n",
       "        \u001b[32m\"column\"\u001b[0m: \u001b[32m\"fake_column\"\u001b[0m\n",
       "      \u001b[1m}\u001b[0m,\n",
       "      \u001b[32m\"meta\"\u001b[0m: \u001b[1m{\u001b[0m\n",
       "        \u001b[32m\"source\"\u001b[0m: \u001b[32m\"companies\"\u001b[0m,\n",
       "        \u001b[32m\"layer\"\u001b[0m: \u001b[32m\"intermediate\"\u001b[0m\n",
       "      \u001b[1m}\u001b[0m\n",
       "    \u001b[1m}\u001b[0m\n",
       "  \u001b[1m]\u001b[0m,\n",
       "  \u001b[32m\"data_asset_type\"\u001b[0m: \u001b[32m\"Dataset\"\u001b[0m,\n",
       "  \u001b[32m\"meta\"\u001b[0m: \u001b[1m{\u001b[0m\n",
       "    \u001b[32m\"great_expectations_version\"\u001b[0m: \u001b[32m\"0.17.21\"\u001b[0m\n",
       "  \u001b[1m}\u001b[0m\n",
       "\u001b[1m}\u001b[0m"
      ]
     },
     "execution_count": 5,
     "metadata": {},
     "output_type": "execute_result"
    }
   ],
   "source": [
    "context = ge.get_context()\n",
    "data = catalog.load(dataset)\n",
    "df = ge.from_pandas(data)\n",
    "\n",
    "# add some sample validations\n",
    "for col in df:\n",
    "    df.expect_column_to_exist(col, meta=metadata)\n",
    "    df.expect_column_values_to_not_be_null(col, meta=metadata)\n",
    "\n",
    "# add a validation expected to fail\n",
    "df.expect_column_to_exist(\"fake_column\", meta=metadata)\n",
    "\n",
    "# get suite definition\n",
    "suite = df.get_expectation_suite(\n",
    "        discard_failed_expectations=False\n",
    "    )\n",
    "\n",
    "# add the name\n",
    "suite.expectation_suite_name = name_suite\n",
    "\n",
    "# save expectation\n",
    "context.add_or_update_expectation_suite(\n",
    "    expectation_suite=suite\n",
    ")"
   ]
  }
 ],
 "metadata": {
  "kernelspec": {
   "display_name": "Kedro (kedro_great_example)",
   "language": "python",
   "name": "kedro_kedro_great_example"
  },
  "language_info": {
   "codemirror_mode": {
    "name": "ipython",
    "version": 3
   },
   "file_extension": ".py",
   "mimetype": "text/x-python",
   "name": "python",
   "nbconvert_exporter": "python",
   "pygments_lexer": "ipython3",
   "version": "3.10.13"
  }
 },
 "nbformat": 4,
 "nbformat_minor": 5
}
